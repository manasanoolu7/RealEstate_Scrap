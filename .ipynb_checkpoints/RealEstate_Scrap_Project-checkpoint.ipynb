{
 "cells": [
  {
   "cell_type": "code",
   "execution_count": 486,
   "metadata": {},
   "outputs": [],
   "source": [
    "import selenium\n",
    "from selenium import webdriver\n",
    "import time\n",
    "from selenium.webdriver.support.ui import Select\n",
    "from bs4 import BeautifulSoup\n",
    "import re\n",
    "import requests\n",
    "import pandas as pd"
   ]
  },
  {
   "cell_type": "code",
   "execution_count": 484,
   "metadata": {},
   "outputs": [
    {
     "name": "stdout",
     "output_type": "stream",
     "text": [
      "URl Links https://immoelissa.be/:| status code 200:\n"
     ]
    }
   ],
   "source": [
    "class Real_Estate_Scaper:\n",
    "    def __init__(self):\n",
    "        pass\n",
    "\n",
    "    def fetch(self, url):\n",
    "        print('URl Links %s:'%url,end='')\n",
    "        response=requests.get(url)\n",
    "        print('| status code %s:'%response.status_code)\n",
    "        #driver=webdriver.Firefox()\n",
    "        #link=driver.get(url)\n",
    "       \n",
    "        \n",
    "        return response\n",
    "\n",
    "    def parse(self, html):\n",
    "        pass\n",
    "\n",
    "    def to_csv(self):\n",
    "        pass\n",
    "\n",
    "    def run(self):\n",
    "        response=self.fetch('https://immoelissa.be/')\n",
    "        with open('first_url.txt','w') as html_file:\n",
    "            html_file.write(response.text)\n",
    "\n",
    "\n",
    "if __name__ == '__main__':\n",
    "    scaper = Real_Estate_Scaper()\n",
    "    scaper.run()"
   ]
  },
  {
   "cell_type": "code",
   "execution_count": 487,
   "metadata": {},
   "outputs": [],
   "source": [
    "url = 'https://immoelissa.be/'\n",
    "driver=webdriver.Firefox()\n",
    "driver.get(url)\n",
    "driver.implicitly_wait(0.5)"
   ]
  },
  {
   "cell_type": "code",
   "execution_count": 488,
   "metadata": {},
   "outputs": [],
   "source": [
    "pop_up_OK=driver.find_element_by_xpath('//*[@id=\"tarteaucitronPersonalize\"]').click()\n"
   ]
  },
  {
   "cell_type": "code",
   "execution_count": 489,
   "metadata": {},
   "outputs": [],
   "source": [
    "selector=driver.find_element_by_xpath('/html/body/div[1]/div[4]/div/div/section[1]/div[2]/div/div/div/div/section[2]/div/div/div/div/div/div[2]/div/div/div/div/div[1]/div/div[1]/form/div[1]/div/span/span[1]/span/span[2]').click()\n"
   ]
  },
  {
   "cell_type": "code",
   "execution_count": 490,
   "metadata": {},
   "outputs": [
    {
     "name": "stdout",
     "output_type": "stream",
     "text": [
      "0\n",
      "maison\n"
     ]
    }
   ],
   "source": [
    "property_type=driver.find_elements_by_xpath(\"//*[@id='select2-qz0h-container']\")\n",
    "print(len(property_type))\n",
    "for i in property_type:\n",
    "    time.sleep(2)\n",
    "    \n",
    "    type_of_property=i.get_attribute('title')\n",
    "#dropdown=driver.find_element_by_xpath('/html/body/div[1]/div[4]/div/div/section[1]/div[2]/div/div/div/div/section[2]/div/div/div/div/div/div[2]/div/div/div/div/div[1]/div/div[1]/form/div[1]/div/span/span[1]/span/span[2]').click()\n",
    "#get_attribute('value')\n",
    "print(type_of_property)"
   ]
  },
  {
   "cell_type": "code",
   "execution_count": 491,
   "metadata": {},
   "outputs": [
    {
     "name": "stdout",
     "output_type": "stream",
     "text": [
      "4\n",
      "[<span class=\"select2-selection__rendered\" id=\"select2-044q-container\" title=\"maison\"><span class=\"select2-selection__clear\">×</span>maison</span>, <span class=\"select2-selection__rendered\" id=\"select2-df85-container\"><span class=\"select2-selection__placeholder\"> </span></span>, <span class=\"select2-selection__rendered\" id=\"select2-g70i-container\"><span class=\"select2-selection__placeholder\"> </span></span>, <span class=\"select2-selection__rendered\" id=\"select2-49z6-container\"><span class=\"select2-selection__placeholder\"> </span></span>]\n"
     ]
    }
   ],
   "source": [
    "soup=BeautifulSoup(driver.page_source,'html.parser')\n",
    "lsts=soup.find_all('span',class_='select2-selection__rendered')\n",
    "print(len(lsts))\n",
    "print(lsts)\n",
    "#print(lsts[1]['title'])\n"
   ]
  },
  {
   "cell_type": "code",
   "execution_count": 492,
   "metadata": {},
   "outputs": [
    {
     "name": "stdout",
     "output_type": "stream",
     "text": [
      "\n"
     ]
    }
   ],
   "source": [
    "dropd=driver.find_element_by_xpath('/html/body/div[1]/div[4]/div/div/section[1]/div[2]/div/div/div/div/section[2]/div/div/div/div/div/div[2]/div/div/div/div/div[1]/div/div[1]/form/div[1]/div/span/span[2]')\n",
    "print(dropd.get_attribute('innerHTML'))"
   ]
  },
  {
   "cell_type": "code",
   "execution_count": 493,
   "metadata": {},
   "outputs": [],
   "source": [
    "options=driver.find_elements_by_xpath('//*[@id=\"select2-7p72-container\"]')\n",
    "#for option in options:\n",
    "#print(options.get_attribute('title'))"
   ]
  },
  {
   "cell_type": "code",
   "execution_count": 494,
   "metadata": {},
   "outputs": [],
   "source": [
    "location=driver.find_elements_by_xpath('//*[@id=\"select2-fdqv-container\"]/html/body/div[1]/div[4]/div/div/section[1]/div[2]/div/div/div/div/section[2]/div/div/div/div/div/div[2]/div/div/div/div/div[1]/div/div[1]/form/div[2]/div/span/span[1]/span/span[2]')\n",
    "for loc in location:\n",
    "    time.sleep(2)\n",
    "    \n",
    "    locality=loc.get_attribute('title')\n",
    "#dropdown=driver.find_element_by_xpath('/html/body/div[1]/div[4]/div/div/section[1]/div[2]/div/div/div/div/section[2]/div/div/div/div/div/div[2]/div/div/div/div/div[1]/div/div[1]/form/div[1]/div/span/span[1]/span/span[2]').click()\n",
    "#get_attribute('value')\n",
    "    print(locality)\n"
   ]
  },
  {
   "cell_type": "code",
   "execution_count": 495,
   "metadata": {},
   "outputs": [],
   "source": [
    "search=driver.find_element_by_xpath('/html/body/div[1]/div[4]/div/div/section[1]/div[2]/div/div/div/div/section[2]/div/div/div/div/div/div[2]/div/div/div/div/div[1]/div/div[1]/form/div[3]/button').click()"
   ]
  },
  {
   "cell_type": "code",
   "execution_count": 469,
   "metadata": {},
   "outputs": [],
   "source": [
    "locations_list=[]\n",
    "list_of_locations=driver.find_elements_by_class_name('select2-results__option')\n",
    "for loc in list_of_locations:\n",
    "    locations_list.append(loc.get_attribute('innerHTML'))\n",
    "\n",
    "    "
   ]
  },
  {
   "cell_type": "code",
   "execution_count": 290,
   "metadata": {},
   "outputs": [
    {
     "name": "stdout",
     "output_type": "stream",
     "text": [
      "1\n",
      "https://immoelissa.be/annonces-immobilieres/4013216-immeuble-mixte/\n"
     ]
    }
   ],
   "source": [
    "a_tags=driver.find_elements_by_xpath('/html/body/div[1]/div[4]/div/div/section/div/div/div/div/div/div/div/div/div[3]/div[2]/div[1]/div/div[2]/div[1]/div/a')\n",
    "print(len(a_tags))\n",
    "for tag in a_tags:\n",
    "    print(tag.get_attribute('href'))\n",
    "    "
   ]
  },
  {
   "cell_type": "code",
   "execution_count": 496,
   "metadata": {
    "scrolled": false
   },
   "outputs": [
    {
     "name": "stdout",
     "output_type": "stream",
     "text": [
      "200\n",
      "https://immoelissa.be/xmlrpc.php\n",
      "https://immoelissa.be/immobilier/\n",
      "https://tarteaucitron.io/\n",
      "https://maps.googleapis.com/\n",
      "https://cdnjs.cloudflare.com/\n",
      "https://js.driftt.com/\n",
      "https://fonts.googleapis.com/\n",
      "https://s.w.org/\n",
      "https://immoelissa.be/feed/\n",
      "https://immoelissa.be/comments/feed/\n",
      "https://immoelissa.be/wp-includes/css/dist/block-library/style.min.css?ver=5.4.2\n",
      "https://immoelissa.be/wp-content/plugins/formcraft3/dist/formcraft-common.css?ver=3.8.9\n",
      "https://immoelissa.be/wp-content/plugins/formcraft3/dist/form.css?ver=3.8.9\n",
      "https://immoelissa.be/wp-content/plugins/tarteaucitronjs/css/user.css?ver=5.4.2\n",
      "https://immoelissa.be/wp-content/plugins/elementor/assets/lib/eicons/css/elementor-icons.min.css?ver=5.6.2\n",
      "https://immoelissa.be/wp-content/plugins/elementor/assets/lib/animations/animations.min.css?ver=2.9.8\n",
      "https://immoelissa.be/wp-content/plugins/elementor/assets/css/frontend.min.css?ver=2.9.8\n",
      "https://immoelissa.be/wp-content/plugins/elementor-pro/assets/css/frontend.min.css?ver=2.9.4\n",
      "https://immoelissa.be/wp-content/plugins/elementor/assets/lib/font-awesome/css/all.min.css?ver=2.9.8\n",
      "https://immoelissa.be/wp-content/plugins/elementor/assets/lib/font-awesome/css/v4-shims.min.css?ver=2.9.8\n",
      "https://immoelissa.be/wp-content/uploads/elementor/css/global.css?ver=1589014578\n",
      "https://immoelissa.be/wp-content/uploads/elementor/css/post-1489.css?ver=1589014578\n",
      "https://immoelissa.be/wp-content/uploads/elementor/css/post-551.css?ver=1589014578\n",
      "https://immoelissa.be/wp-content/uploads/elementor/css/post-891.css?ver=1589014578\n",
      "https://immoelissa.be/wp-content/themes/my-listing/assets/dist/maps/google-maps/google-maps.css?ver=2.2.2\n",
      "https://immoelissa.be/wp-content/themes/my-listing/assets/dist/icons.css?ver=2.2.2\n",
      "https://fonts.googleapis.com/icon?family=Material+Icons&ver=5.4.2\n",
      "https://immoelissa.be/wp-content/themes/my-listing/assets/vendor/select2/select2.css?ver=4.0.5\n",
      "https://immoelissa.be/wp-content/themes/my-listing/assets/dist/vendor.css?ver=2.2.2\n",
      "https://immoelissa.be/wp-content/themes/my-listing/assets/dist/frontend.css?ver=2.2.2\n",
      "https://immoelissa.be/wp-content/themes/my-listing/style.css?ver=5.4.2\n",
      "https://immoelissa.be/wp-content/themes/my-listing-child/style.css?ver=5.4.2\n",
      "https://immoelissa.be/wp-content/uploads/mylisting-dynamic-styles.css?ver=1597944924\n",
      "https://fonts.googleapis.com/css?family=Work+Sans%3A100%2C100italic%2C200%2C200italic%2C300%2C300italic%2C400%2C400italic%2C500%2C500italic%2C600%2C600italic%2C700%2C700italic%2C800%2C800italic%2C900%2C900italic&ver=5.4.2\n",
      "https://immoelissa.be/wp-content/plugins/elementor/assets/lib/font-awesome/css/fontawesome.min.css?ver=5.12.0\n",
      "https://immoelissa.be/wp-content/plugins/elementor/assets/lib/font-awesome/css/solid.min.css?ver=5.12.0\n",
      "https://immoelissa.be/wp-content/plugins/elementor/assets/lib/font-awesome/css/brands.min.css?ver=5.12.0\n",
      "https://immoelissa.be/wp-content/plugins/elementor/assets/lib/font-awesome/css/regular.min.css?ver=5.12.0\n",
      "https://immoelissa.be/wp-content/uploads/elementor/custom-icons/hm-immo-elissa/styles.css?ver=1.0.0\n",
      "https://immoelissa.be/wp-json/\n",
      "https://immoelissa.be/xmlrpc.php?rsd\n",
      "https://immoelissa.be/wp-includes/wlwmanifest.xml\n",
      "https://immoelissa.be/?p=22\n",
      "https://immoelissa.be/wp-json/oembed/1.0/embed?url=https%3A%2F%2Fimmoelissa.be%2Fimmobilier%2F\n",
      "https://immoelissa.be/wp-json/oembed/1.0/embed?url=https%3A%2F%2Fimmoelissa.be%2Fimmobilier%2F&format=xml\n",
      "https://immoelissa.be/wp-content/uploads/2020/01/cropped-logo-elissa-icon@512x-1-32x32.png\n",
      "https://immoelissa.be/wp-content/uploads/2020/01/cropped-logo-elissa-icon@512x-1-192x192.png\n",
      "https://immoelissa.be/wp-content/uploads/2020/01/cropped-logo-elissa-icon@512x-1-180x180.png\n",
      "https://tarteaucitron.io/cache/css/tarteaucitron.css?v=20200730\n",
      "https://immoelissa.be/\n",
      "https://www.google.com/maps?cid=14653912927615634291\n",
      "tel:003242210221\n",
      "https://immoelissa.be/evaluation-gratuite-bien-immobilier/\n",
      "https://immoelissa.be/\n",
      "https://immoelissa.be/immobilier/\n",
      "https://immoelissa.be/immobilier/\n",
      "https://immoelissa.be/immobilier/viager/\n",
      "https://immoelissa.be/immobilier/vendre-son-bien-immobilier/\n",
      "https://immoelissa.be/immobilier/mettre-en-location/\n",
      "https://immoelissa.be/immobilier/evaluation-gratuite-bien-immobilier/\n",
      "https://immoelissa.be/immobilier/acheter-un-bien-immobilier/\n",
      "https://immoelissa.be/immobilier/louer-un-bien-immobilier/\n",
      "https://immoelissa.be/agence-immobiliere/\n",
      "https://immoelissa.be/agence-immobiliere/\n",
      "https://immoelissa.be/agence-immobiliere/qualite-et-engagements/\n",
      "https://immoelissa.be/agence-immobiliere/pourquoi-nous-choisir/\n",
      "https://immoelissa.be/nos-conseils/\n",
      "https://immoelissa.be/jobs/\n",
      "https://immoelissa.be/blog/\n",
      "https://immoelissa.be/contact/\n",
      "https://immoelissa.be/immobilier/evaluation-gratuite-bien-immobilier/\n",
      "https://immoelissa.be/\n",
      "https://immoelissa.be/immobilier/\n",
      "https://immoelissa.be/immobilier/\n",
      "https://immoelissa.be/immobilier/viager/\n",
      "https://immoelissa.be/immobilier/vendre-son-bien-immobilier/\n",
      "https://immoelissa.be/immobilier/mettre-en-location/\n",
      "https://immoelissa.be/immobilier/evaluation-gratuite-bien-immobilier/\n",
      "https://immoelissa.be/immobilier/acheter-un-bien-immobilier/\n",
      "https://immoelissa.be/immobilier/louer-un-bien-immobilier/\n",
      "https://immoelissa.be/agence-immobiliere/\n",
      "https://immoelissa.be/agence-immobiliere/\n",
      "https://immoelissa.be/agence-immobiliere/qualite-et-engagements/\n",
      "https://immoelissa.be/agence-immobiliere/pourquoi-nous-choisir/\n",
      "https://immoelissa.be/nos-conseils/\n",
      "https://immoelissa.be/jobs/\n",
      "https://immoelissa.be/blog/\n",
      "https://immoelissa.be/contact/\n",
      "https://immoelissa.be/immobilier/evaluation-gratuite-bien-immobilier/\n",
      "https://immoelissa.be/\n",
      "https://immoelissa.be/\n",
      "https://immoelissa.be/immobilier/\n",
      "https://immoelissa.be/immobilier/\n",
      "https://immoelissa.be/immobilier/viager/\n",
      "https://immoelissa.be/immobilier/vendre-son-bien-immobilier/\n",
      "https://immoelissa.be/immobilier/mettre-en-location/\n",
      "https://immoelissa.be/immobilier/evaluation-gratuite-bien-immobilier/\n",
      "https://immoelissa.be/immobilier/acheter-un-bien-immobilier/\n",
      "https://immoelissa.be/immobilier/louer-un-bien-immobilier/\n",
      "https://immoelissa.be/agence-immobiliere/\n",
      "https://immoelissa.be/agence-immobiliere/\n",
      "https://immoelissa.be/agence-immobiliere/qualite-et-engagements/\n",
      "https://immoelissa.be/agence-immobiliere/pourquoi-nous-choisir/\n",
      "https://immoelissa.be/nos-conseils/\n",
      "https://immoelissa.be/jobs/\n",
      "https://immoelissa.be/blog/\n",
      "https://immoelissa.be/contact/\n",
      "https://immoelissa.be/immobilier/evaluation-gratuite-bien-immobilier/\n",
      "https://immoelissa.be/\n",
      "https://immoelissa.be/immobilier/\n",
      "https://immoelissa.be/immobilier/\n",
      "https://immoelissa.be/immobilier/viager/\n",
      "https://immoelissa.be/immobilier/vendre-son-bien-immobilier/\n",
      "https://immoelissa.be/immobilier/mettre-en-location/\n",
      "https://immoelissa.be/immobilier/evaluation-gratuite-bien-immobilier/\n",
      "https://immoelissa.be/immobilier/acheter-un-bien-immobilier/\n",
      "https://immoelissa.be/immobilier/louer-un-bien-immobilier/\n",
      "https://immoelissa.be/agence-immobiliere/\n",
      "https://immoelissa.be/agence-immobiliere/\n",
      "https://immoelissa.be/agence-immobiliere/qualite-et-engagements/\n",
      "https://immoelissa.be/agence-immobiliere/pourquoi-nous-choisir/\n",
      "https://immoelissa.be/nos-conseils/\n",
      "https://immoelissa.be/jobs/\n",
      "https://immoelissa.be/blog/\n",
      "https://immoelissa.be/contact/\n",
      "https://immoelissa.be/immobilier/evaluation-gratuite-bien-immobilier/\n",
      "https://immoelissa.be/immobilier/?category%5B%5D=maison&estate_cities=liege&sort=prix-c#\n",
      "https://immoelissa.be/immobilier/?category%5B%5D=maison&estate_cities=liege&sort=prix-c#\n",
      "https://immoelissa.be/immobilier/?category%5B%5D=maison&estate_cities=liege&sort=prix-c#\n",
      "https://immoelissa.be/immobilier/?category%5B%5D=maison&estate_cities=liege&sort=prix-c#\n",
      "https://immoelissa.be/immobilier/?category%5B%5D=maison&estate_cities=liege&sort=prix-c#\n",
      "https://immoelissa.be/immobilier/?category%5B%5D=maison&estate_cities=liege&sort=prix-c#\n",
      "https://immoelissa.be/immobilier/?category%5B%5D=maison&estate_cities=liege&sort=prix-c#\n",
      "https://immoelissa.be/immobilier/?category%5B%5D=maison&estate_cities=liege&sort=prix-c#\n",
      "https://immoelissa.be/immobilier/?category%5B%5D=maison&estate_cities=liege&sort=prix-c#\n",
      "https://immoelissa.be/immobilier/?category%5B%5D=maison&estate_cities=liege&sort=prix-c#\n",
      "https://immoelissa.be/immobilier/?category%5B%5D=maison&estate_cities=liege&sort=prix-c#\n",
      "https://immoelissa.be/immobilier/?category%5B%5D=maison&estate_cities=liege&sort=prix-c#\n",
      "https://immoelissa.be/immobilier/?category%5B%5D=maison&estate_cities=liege&sort=prix-c#\n",
      "https://immoelissa.be/immobilier/?category%5B%5D=maison&estate_cities=liege&sort=prix-c#\n",
      "https://immoelissa.be/immobilier/?category%5B%5D=maison&estate_cities=liege&sort=prix-c#\n",
      "https://immoelissa.be/immobilier/?category%5B%5D=maison&estate_cities=liege&sort=prix-c#\n",
      "https://immoelissa.be/immobilier/?category%5B%5D=maison&estate_cities=liege&sort=prix-c#\n",
      "https://immoelissa.be/immobilier/?category%5B%5D=maison&estate_cities=liege&sort=prix-c#\n"
     ]
    },
    {
     "name": "stdout",
     "output_type": "stream",
     "text": [
      "https://immoelissa.be/immobilier/?category%5B%5D=maison&estate_cities=liege&sort=prix-c#\n",
      "https://immoelissa.be/immobilier/?category%5B%5D=maison&estate_cities=liege&sort=prix-c#\n",
      "#\n",
      "https://immoelissa.be/annonces-immobilieres/4013216-immeuble-mixte/\n",
      "https://immoelissa.be/immobilier/?category%5B%5D=maison&estate_cities=liege&sort=prix-c#\n",
      "https://immoelissa.be/immobilier/?category%5B%5D=maison&estate_cities=liege&sort=prix-c#\n",
      "https://immoelissa.be/annonces-immobilieres/4056918-immeuble-mixte-idealement-situe/\n",
      "https://immoelissa.be/immobilier/?category%5B%5D=maison&estate_cities=liege&sort=prix-c#\n",
      "https://immoelissa.be/immobilier/?category%5B%5D=maison&estate_cities=liege&sort=prix-c#\n",
      "https://immoelissa.be/annonces-immobilieres/4134203-maison-lot-5-de-garages/\n",
      "https://immoelissa.be/immobilier/?category%5B%5D=maison&estate_cities=liege&sort=prix-c#\n",
      "https://immoelissa.be/immobilier/?category%5B%5D=maison&estate_cities=liege&sort=prix-c#\n",
      "https://immoelissa.be/annonces-immobilieres/4010127-maison-2-chambres-avec-jardin/\n",
      "https://immoelissa.be/immobilier/?category%5B%5D=maison&estate_cities=liege&sort=prix-c#\n",
      "https://immoelissa.be/immobilier/?category%5B%5D=maison&estate_cities=liege&sort=prix-c#\n",
      "https://immoelissa.be/annonces-immobilieres/4013255-maison-de-maitre-bien-coup-de-coeur/\n",
      "https://immoelissa.be/immobilier/?category%5B%5D=maison&estate_cities=liege&sort=prix-c#\n",
      "https://immoelissa.be/immobilier/?category%5B%5D=maison&estate_cities=liege&sort=prix-c#\n",
      "https://immoelissa.be/annonces-immobilieres/4076658-maison-a-liege/\n",
      "https://immoelissa.be/immobilier/?category%5B%5D=maison&estate_cities=liege&sort=prix-c#\n",
      "https://immoelissa.be/immobilier/?category%5B%5D=maison&estate_cities=liege&sort=prix-c#\n",
      "https://immoelissa.be/immobilier/?category%5B%5D=maison&estate_cities=liege&sort=prix-c#\n",
      "https://immoelissa.be/immobilier/?category%5B%5D=maison&estate_cities=liege&sort=prix-c#\n",
      "https://immoelissa.be/\n",
      "https://www.facebook.com/immoelissa/\n",
      "https://immoelissa.be/blog/\n",
      "https://www.immoweb.be/fr/agence/elissa-agence-immobiliere/1798121\n",
      "tel:003242210221\n",
      "mailto:info@immoelissa.be\n",
      "https://www.google.com/maps?cid=14653912927615634291\n",
      "https://immoelissa.be/biens-a-vendre/\n",
      "https://immoelissa.be/biens-a-vendre/?type=a-louer&sort=prix-c\n",
      "https://immoelissa.be/immobilier/evaluation-gratuite-bien-immobilier/\n",
      "https://immoelissa.be/agence-immobiliere/\n",
      "https://immoelissa.be/nos-conseils/\n",
      "https://immoelissa.be/blog/\n",
      "https://immoelissa.be/contact/\n",
      "https://immoelissa.be/biens-a-vendre/\n",
      "https://immoelissa.be/biens-a-vendre/?type=a-louer&sort=prix-c\n",
      "https://immoelissa.be/immobilier/evaluation-gratuite-bien-immobilier/\n",
      "https://immoelissa.be/agence-immobiliere/\n",
      "https://immoelissa.be/nos-conseils/\n",
      "https://immoelissa.be/blog/\n",
      "https://immoelissa.be/contact/\n",
      "https://immoelissa.be/cgu/\n",
      "https://immoelissa.be/rgdp/\n",
      "https://immoelissa.be/contact/\n",
      "https://immoelissa.be/cgu/\n",
      "https://immoelissa.be/rgdp/\n",
      "https://immoelissa.be/contact/\n",
      "https://helloimmo.agency/?ref=immoelissa\n",
      "https://tarteaucitron.io/service/gajs/\n",
      "https://support.google.com/analytics/answer/6004245\n",
      "https://tarteaucitron.io/service/gtag/\n",
      "https://support.google.com/analytics/answer/6004245\n",
      "https://tarteaucitron.io/\n"
     ]
    }
   ],
   "source": [
    "c=driver.find_elements_by_xpath('//*[@href]')\n",
    "print(len(c))\n",
    "hrefs=[]\n",
    "for lnk in c:\n",
    "    print(lnk.get_attribute('href'))\n",
    "    hrefs.append(lnk.get_attribute('href'))"
   ]
  },
  {
   "cell_type": "code",
   "execution_count": 497,
   "metadata": {},
   "outputs": [
    {
     "name": "stdout",
     "output_type": "stream",
     "text": [
      "https://immoelissa.be/annonces-immobilieres/4013216-immeuble-mixte/\n",
      "https://immoelissa.be/annonces-immobilieres/4056918-immeuble-mixte-idealement-situe/\n",
      "https://immoelissa.be/annonces-immobilieres/4134203-maison-lot-5-de-garages/\n",
      "https://immoelissa.be/annonces-immobilieres/4010127-maison-2-chambres-avec-jardin/\n",
      "https://immoelissa.be/annonces-immobilieres/4013255-maison-de-maitre-bien-coup-de-coeur/\n",
      "https://immoelissa.be/annonces-immobilieres/4076658-maison-a-liege/\n"
     ]
    }
   ],
   "source": [
    "property_links=[]\n",
    "for hr in hrefs:\n",
    "    if \"annonces-immobilieres\" in hr:\n",
    "        print(hr)\n",
    "        property_links.append(hr)\n"
   ]
  },
  {
   "cell_type": "code",
   "execution_count": 518,
   "metadata": {},
   "outputs": [],
   "source": [
    "# print(property_links)\n",
    "col_data=[]\n",
    "for each_property in property_links:\n",
    "    # print(each_property)\n",
    "    url = requests.get(each_property)\n",
    "    soup = BeautifulSoup(url.text, \"html.parser\")\n",
    "    url_info = soup.find_all(\"dl\", {'class': 'wpis-detail-list list-general'})\n",
    "    #data_info = pd.DataFrame()\n",
    "    cleaned_id_text = []\n",
    "    \n",
    "    for i in url_info[0].find_all('dt'):\n",
    "        \n",
    "        cleaned_id_text.append(i.text)\n",
    " \n",
    "    cleaned_id__attrb_text = []\n",
    "    for i in url_info[0].find_all('dd'):\n",
    "        cleaned_id__attrb_text.append(i.text)\n",
    "\n",
    "    #data_info['Field'] = cleaned_id_text\n",
    "    #data_info['Values'] = cleaned_id__attrb_text\n",
    "    #print(cleaned_id__attrb_text)\n",
    "    data_dict={'Price':cleaned_id__attrb_text[0],'Type_of_property':cleaned_id__attrb_text[3],\n",
    "                    'Locality':cleaned_id__attrb_text[2],'Availability':cleaned_id__attrb_text[4],'Condition of the property':cleaned_id__attrb_text[5]}\n",
    "    #print(data_dict)\n",
    "    col_data.append(data_dict)  \n",
    "    \n",
    "    time.sleep(2)\n",
    "   \n",
    "   "
   ]
  },
  {
   "cell_type": "code",
   "execution_count": 519,
   "metadata": {
    "scrolled": true
   },
   "outputs": [],
   "source": [
    "df=pd.DataFrame(col_data,columns=['Locality','Type_of_property','Price','Availability','Condition of the property'])\n",
    "#print(df) \n",
    "with open('real_estate_data.csv','a') as f:\n",
    "    df.to_csv(f,header=False)\n",
    "#df.to_csv('real_estate_data.csv')"
   ]
  },
  {
   "cell_type": "code",
   "execution_count": 520,
   "metadata": {},
   "outputs": [],
   "source": [
    "col_config = []\n",
    "for each_property in property_links:\n",
    "    # print(each_property)\n",
    "    url_for_config = requests.get(each_property)\n",
    "    soup = BeautifulSoup(url_for_config.text, \"html.parser\")\n",
    "    url_config_info = soup.find_all(\n",
    "        \"dl\", {'class': 'wpis-detail-list list-configuration'})\n",
    "\n",
    "    cleaned_id_text = []\n",
    "    for i in url_config_info[0].find_all('dt'):\n",
    "        cleaned_id_text.append(i.text)\n",
    "\n",
    "    cleaned_id__attrb_text = []\n",
    "    for i in url_config_info[0].find_all('dd'):\n",
    "        cleaned_id__attrb_text.append(i.text)\n",
    "    # print(cleaned_id__attrb_text[6])\n",
    "    if len(cleaned_id__attrb_text) < 6:\n",
    "        pass\n",
    "    else:\n",
    "        config_dict = {'Chambers': cleaned_id__attrb_text[0], 'Cuisine': cleaned_id__attrb_text[1],\n",
    "                       'Toilette': cleaned_id__attrb_text[2], 'Salle de bain': cleaned_id__attrb_text[3], 'Terrasse': cleaned_id__attrb_text[4], 'Garden': cleaned_id__attrb_text[5]}\n",
    "\n",
    "    col_config.append(config_dict)\n",
    "    time.sleep(2)"
   ]
  },
  {
   "cell_type": "code",
   "execution_count": 521,
   "metadata": {},
   "outputs": [],
   "source": [
    "df2=pd.DataFrame(col_config,columns=['Chambers','Cuisine','Toilette','Salle de bain','Terrasse','Garden'])\n",
    "#print(df2) \n",
    "#df2.to_csv('real_estate_data_config.csv')\n",
    "with open('real_estate_data_config.csv','a') as f:\n",
    "    df.to_csv(f,header=False)\n"
   ]
  },
  {
   "cell_type": "code",
   "execution_count": 522,
   "metadata": {},
   "outputs": [],
   "source": [
    "col_area=[]\n",
    "for each_property in property_links:\n",
    "    # print(each_property)\n",
    "    url_for_config = requests.get(each_property)\n",
    "    soup = BeautifulSoup(url_for_config.text, \"html.parser\")\n",
    "    url_config_info = soup.find_all(\n",
    "        \"dl\", {'class': 'wpis-detail-list list-superficies'})\n",
    "  \n",
    "    cleaned_id_text = []\n",
    "    for i in url_config_info[0].find_all('dt'):\n",
    "        cleaned_id_text.append(i.text)\n",
    "   \n",
    "    cleaned_id__attrb_text = []\n",
    "    for i in url_config_info[0].find_all('dd'):\n",
    "        cleaned_id__attrb_text.append(i.text)\n",
    "   \n",
    "    area_dict={'Total habitable':cleaned_id__attrb_text[0]}\n",
    "    col_area.append(area_dict)   \n",
    "    time.sleep(2)"
   ]
  },
  {
   "cell_type": "code",
   "execution_count": 523,
   "metadata": {},
   "outputs": [],
   "source": [
    "df3=pd.DataFrame(col_area,columns=['Total habitable'])#,'Cuisine','Toilette','Salle de bain','Terrasse','Garden'])\n",
    "#print(df3) \n",
    "#df3.to_csv('real_estate_data_area.csv')\n",
    "with open('real_estate_data_area.csv','a') as f:\n",
    "    df.to_csv(f,header=False)"
   ]
  },
  {
   "cell_type": "code",
   "execution_count": 514,
   "metadata": {},
   "outputs": [
    {
     "name": "stdout",
     "output_type": "stream",
     "text": [
      "   Locality Type_of_property      Price Availability  \\\n",
      "0     Liège           Maison  165 000 €     À vendre   \n",
      "1     Liege           Maison  175 000 €       Option   \n",
      "2     Liege           Maison  259 000 €        Vendu   \n",
      "3     Liege           Maison   76 500 €     À vendre   \n",
      "4     Liège           Maison  795 000 €     À vendre   \n",
      "5     Liege           Maison   99 000 €     À vendre   \n",
      "6       NaN              NaN        NaN          NaN   \n",
      "7       NaN              NaN        NaN          NaN   \n",
      "8       NaN              NaN        NaN          NaN   \n",
      "9       NaN              NaN        NaN          NaN   \n",
      "10      NaN              NaN        NaN          NaN   \n",
      "11      NaN              NaN        NaN          NaN   \n",
      "12      NaN              NaN        NaN          NaN   \n",
      "13      NaN              NaN        NaN          NaN   \n",
      "14      NaN              NaN        NaN          NaN   \n",
      "15      NaN              NaN        NaN          NaN   \n",
      "16      NaN              NaN        NaN          NaN   \n",
      "17      NaN              NaN        NaN          NaN   \n",
      "\n",
      "   Condition of the property Chambers Cuisine Toilette Salle de bain Terrasse  \\\n",
      "0                   Bon état      NaN     NaN      NaN           NaN      NaN   \n",
      "1                    1 712 €      NaN     NaN      NaN           NaN      NaN   \n",
      "2                   Bon état      NaN     NaN      NaN           NaN      NaN   \n",
      "3               à rafraîchir      NaN     NaN      NaN           NaN      NaN   \n",
      "4             Excellent état      NaN     NaN      NaN           NaN      NaN   \n",
      "5                   Bon état      NaN     NaN      NaN           NaN      NaN   \n",
      "6                        NaN        3       1        2             1        1   \n",
      "7                        NaN        3       1        2             1        1   \n",
      "8                        NaN        4       1        2             2        5   \n",
      "9                        NaN        4       1        2             2        5   \n",
      "10                       NaN        5       1        4             3        1   \n",
      "11                       NaN        5       1        4             3        1   \n",
      "12                       NaN      NaN     NaN      NaN           NaN      NaN   \n",
      "13                       NaN      NaN     NaN      NaN           NaN      NaN   \n",
      "14                       NaN      NaN     NaN      NaN           NaN      NaN   \n",
      "15                       NaN      NaN     NaN      NaN           NaN      NaN   \n",
      "16                       NaN      NaN     NaN      NaN           NaN      NaN   \n",
      "17                       NaN      NaN     NaN      NaN           NaN      NaN   \n",
      "\n",
      "   Garden Total habitable  \n",
      "0     NaN             NaN  \n",
      "1     NaN             NaN  \n",
      "2     NaN             NaN  \n",
      "3     NaN             NaN  \n",
      "4     NaN             NaN  \n",
      "5     NaN             NaN  \n",
      "6     Oui             NaN  \n",
      "7     Oui             NaN  \n",
      "8       1             NaN  \n",
      "9       1             NaN  \n",
      "10    Oui             NaN  \n",
      "11    Oui             NaN  \n",
      "12    NaN          160 m2  \n",
      "13    NaN          150 m2  \n",
      "14    NaN          190 m2  \n",
      "15    NaN           60 m2  \n",
      "16    NaN          327 m2  \n",
      "17    NaN           53 m2  \n"
     ]
    }
   ],
   "source": [
    "d=pd.concat([df,df2,df3], axis=0, ignore_index=True)\n",
    "print(d)\n",
    "d.to_csv('overall_real_estate_data.csv')\n"
   ]
  },
  {
   "cell_type": "code",
   "execution_count": null,
   "metadata": {},
   "outputs": [],
   "source": []
  }
 ],
 "metadata": {
  "kernelspec": {
   "display_name": "Python 3",
   "language": "python",
   "name": "python3"
  },
  "language_info": {
   "codemirror_mode": {
    "name": "ipython",
    "version": 3
   },
   "file_extension": ".py",
   "mimetype": "text/x-python",
   "name": "python",
   "nbconvert_exporter": "python",
   "pygments_lexer": "ipython3",
   "version": "3.7.6"
  }
 },
 "nbformat": 4,
 "nbformat_minor": 4
}
