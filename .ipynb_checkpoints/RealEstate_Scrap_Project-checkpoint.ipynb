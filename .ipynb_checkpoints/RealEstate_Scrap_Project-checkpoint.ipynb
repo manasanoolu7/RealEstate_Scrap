{
 "cells": [
  {
   "cell_type": "code",
   "execution_count": 537,
   "metadata": {},
   "outputs": [],
   "source": [
    "import selenium\n",
    "from selenium import webdriver\n",
    "import time\n",
    "from selenium.webdriver.support.ui import Select\n",
    "from bs4 import BeautifulSoup\n",
    "import re\n",
    "import requests\n",
    "import pandas as pd"
   ]
  },
  {
   "cell_type": "code",
   "execution_count": 538,
   "metadata": {},
   "outputs": [
    {
     "data": {
      "text/plain": [
       "\"\\nclass Real_Estate_Scaper:\\n    def __init__(self):\\n        pass\\n\\n    def fetch(self, url):\\n        c=driver.find_elements_by_xpath('//*[@href]')\\n        print(len(c))\\n        hrefs=[]\\n        for lnk in c:\\n            #print(lnk.get_attribute('href'))\\n            hrefs.append(lnk.get_attribute('href'))\\n       \\n        \\n        return response\\n\\n    def parse(self, html):\\n        pass\\n\\n    def to_csv(self):\\n        pass\\n\\n    def run(self):\\n        self.url = 'https://immoelissa.be/'\\n        driver=webdriver.Firefox()\\n        driver.get(self.url)\\n        driver.implicitly_wait(0.5)\\n\\n\\nif __name__ == '__main__':\\n    scaper = Real_Estate_Scaper()\\n    scaper.run()\\n\""
      ]
     },
     "execution_count": 538,
     "metadata": {},
     "output_type": "execute_result"
    }
   ],
   "source": [
    "\"\"\"\n",
    "class Real_Estate_Scaper:\n",
    "    def __init__(self):\n",
    "        pass\n",
    "\n",
    "    def fetch(self, url):\n",
    "        c=driver.find_elements_by_xpath('//*[@href]')\n",
    "        print(len(c))\n",
    "        hrefs=[]\n",
    "        for lnk in c:\n",
    "            #print(lnk.get_attribute('href'))\n",
    "            hrefs.append(lnk.get_attribute('href'))\n",
    "       \n",
    "        \n",
    "        return response\n",
    "\n",
    "    def parse(self, html):\n",
    "        pass\n",
    "\n",
    "    def to_csv(self):\n",
    "        pass\n",
    "\n",
    "    def run(self):\n",
    "        self.url = 'https://immoelissa.be/'\n",
    "        driver=webdriver.Firefox()\n",
    "        driver.get(self.url)\n",
    "        driver.implicitly_wait(0.5)\n",
    "\n",
    "\n",
    "if __name__ == '__main__':\n",
    "    scaper = Real_Estate_Scaper()\n",
    "    scaper.run()\n",
    "\"\"\"    "
   ]
  },
  {
   "cell_type": "code",
   "execution_count": 539,
   "metadata": {},
   "outputs": [],
   "source": [
    "url = 'https://immoelissa.be/'\n",
    "driver=webdriver.Firefox()\n",
    "driver.get(url)\n",
    "driver.implicitly_wait(0.5)"
   ]
  },
  {
   "cell_type": "code",
   "execution_count": 540,
   "metadata": {},
   "outputs": [],
   "source": [
    "#pop_up_OK=driver.find_element_by_xpath('//*[@id=\"tarteaucitronPersonalize\"]').click()\n"
   ]
  },
  {
   "cell_type": "code",
   "execution_count": 541,
   "metadata": {},
   "outputs": [],
   "source": [
    "#selector=driver.find_element_by_xpath('/html/body/div[1]/div[4]/div/div/section[1]/div[2]/div/div/div/div/section[2]/div/div/div/div/div/div[2]/div/div/div/div/div[1]/div/div[1]/form/div[1]/div/span/span[1]/span/span[2]').click()\n"
   ]
  },
  {
   "cell_type": "code",
   "execution_count": 542,
   "metadata": {},
   "outputs": [
    {
     "data": {
      "text/plain": [
       "'  \\nproperty_type=driver.find_elements_by_xpath(\"//*[@id=\\'select2-qz0h-container\\']\")\\nprint(len(property_type))\\nfor i in property_type:\\n    time.sleep(2)\\n    \\n    type_of_property=i.get_attribute(\\'title\\')\\n#dropdown=driver.find_element_by_xpath(\\'/html/body/div[1]/div[4]/div/div/section[1]/div[2]/div/div/div/div/section[2]/div/div/div/div/div/div[2]/div/div/div/div/div[1]/div/div[1]/form/div[1]/div/span/span[1]/span/span[2]\\').click()\\n#get_attribute(\\'value\\')\\nprint(type_of_property)\\n'"
      ]
     },
     "execution_count": 542,
     "metadata": {},
     "output_type": "execute_result"
    }
   ],
   "source": [
    "\"\"\"  \n",
    "property_type=driver.find_elements_by_xpath(\"//*[@id='select2-qz0h-container']\")\n",
    "print(len(property_type))\n",
    "for i in property_type:\n",
    "    time.sleep(2)\n",
    "    \n",
    "    type_of_property=i.get_attribute('title')\n",
    "#dropdown=driver.find_element_by_xpath('/html/body/div[1]/div[4]/div/div/section[1]/div[2]/div/div/div/div/section[2]/div/div/div/div/div/div[2]/div/div/div/div/div[1]/div/div[1]/form/div[1]/div/span/span[1]/span/span[2]').click()\n",
    "#get_attribute('value')\n",
    "print(type_of_property)\n",
    "\"\"\"  "
   ]
  },
  {
   "cell_type": "code",
   "execution_count": 491,
   "metadata": {},
   "outputs": [
    {
     "name": "stdout",
     "output_type": "stream",
     "text": [
      "4\n",
      "[<span class=\"select2-selection__rendered\" id=\"select2-044q-container\" title=\"maison\"><span class=\"select2-selection__clear\">×</span>maison</span>, <span class=\"select2-selection__rendered\" id=\"select2-df85-container\"><span class=\"select2-selection__placeholder\"> </span></span>, <span class=\"select2-selection__rendered\" id=\"select2-g70i-container\"><span class=\"select2-selection__placeholder\"> </span></span>, <span class=\"select2-selection__rendered\" id=\"select2-49z6-container\"><span class=\"select2-selection__placeholder\"> </span></span>]\n"
     ]
    }
   ],
   "source": [
    "\"\"\"  \n",
    "soup=BeautifulSoup(driver.page_source,'html.parser')\n",
    "lsts=soup.find_all('span',class_='select2-selection__rendered')\n",
    "print(len(lsts))\n",
    "print(lsts)\n",
    "#print(lsts[1]['title'])\n",
    "\"\"\"  "
   ]
  },
  {
   "cell_type": "code",
   "execution_count": 492,
   "metadata": {},
   "outputs": [
    {
     "name": "stdout",
     "output_type": "stream",
     "text": [
      "\n"
     ]
    }
   ],
   "source": [
    "\"\"\"  \n",
    "dropd=driver.find_element_by_xpath('/html/body/div[1]/div[4]/div/div/section[1]/div[2]/div/div/div/div/section[2]/div/div/div/div/div/div[2]/div/div/div/div/div[1]/div/div[1]/form/div[1]/div/span/span[2]')\n",
    "print(dropd.get_attribute('innerHTML'))\n",
    "\"\"\"  "
   ]
  },
  {
   "cell_type": "code",
   "execution_count": 493,
   "metadata": {},
   "outputs": [],
   "source": [
    "\"\"\"  \n",
    "options=driver.find_elements_by_xpath('//*[@id=\"select2-7p72-container\"]')\n",
    "#for option in options:\n",
    "#print(options.get_attribute('title'))\n",
    "\"\"\"  "
   ]
  },
  {
   "cell_type": "code",
   "execution_count": 494,
   "metadata": {},
   "outputs": [],
   "source": [
    "\"\"\"  \n",
    "location=driver.find_elements_by_xpath('//*[@id=\"select2-fdqv-container\"]/html/body/div[1]/div[4]/div/div/section[1]/div[2]/div/div/div/div/section[2]/div/div/div/div/div/div[2]/div/div/div/div/div[1]/div/div[1]/form/div[2]/div/span/span[1]/span/span[2]')\n",
    "for loc in location:\n",
    "    time.sleep(2)\n",
    "    \n",
    "    locality=loc.get_attribute('title')\n",
    "#dropdown=driver.find_element_by_xpath('/html/body/div[1]/div[4]/div/div/section[1]/div[2]/div/div/div/div/section[2]/div/div/div/div/div/div[2]/div/div/div/div/div[1]/div/div[1]/form/div[1]/div/span/span[1]/span/span[2]').click()\n",
    "#get_attribute('value')\n",
    "    print(locality)\n",
    "\"\"\"  "
   ]
  },
  {
   "cell_type": "code",
   "execution_count": 495,
   "metadata": {},
   "outputs": [],
   "source": [
    "\"\"\"  \n",
    "search=driver.find_element_by_xpath('/html/body/div[1]/div[4]/div/div/section[1]/div[2]/div/div/div/div/section[2]/div/div/div/div/div/div[2]/div/div/div/div/div[1]/div/div[1]/form/div[3]/button').click()\n",
    "\"\"\"  "
   ]
  },
  {
   "cell_type": "code",
   "execution_count": 469,
   "metadata": {},
   "outputs": [],
   "source": [
    "\"\"\"  \n",
    "locations_list=[]\n",
    "list_of_locations=driver.find_elements_by_class_name('select2-results__option')\n",
    "for loc in list_of_locations:\n",
    "    locations_list.append(loc.get_attribute('innerHTML'))\n",
    "\n",
    "\"\"\"      "
   ]
  },
  {
   "cell_type": "code",
   "execution_count": 290,
   "metadata": {},
   "outputs": [
    {
     "name": "stdout",
     "output_type": "stream",
     "text": [
      "1\n",
      "https://immoelissa.be/annonces-immobilieres/4013216-immeuble-mixte/\n"
     ]
    }
   ],
   "source": [
    "\"\"\"  \n",
    "a_tags=driver.find_elements_by_xpath('/html/body/div[1]/div[4]/div/div/section/div/div/div/div/div/div/div/div/div[3]/div[2]/div[1]/div/div[2]/div[1]/div/a')\n",
    "print(len(a_tags))\n",
    "for tag in a_tags:\n",
    "    print(tag.get_attribute('href'))\n",
    "\"\"\"      "
   ]
  },
  {
   "cell_type": "code",
   "execution_count": 838,
   "metadata": {
    "scrolled": false
   },
   "outputs": [
    {
     "name": "stdout",
     "output_type": "stream",
     "text": [
      "185\n"
     ]
    }
   ],
   "source": [
    "c = driver.find_elements_by_xpath('//*[@href]')\n",
    "print(len(c))\n",
    "hrefs = []\n",
    "for lnk in c:\n",
    "    # print(lnk.get_attribute('href'))\n",
    "    hrefs.append(lnk.get_attribute('href'))"
   ]
  },
  {
   "cell_type": "code",
   "execution_count": 839,
   "metadata": {},
   "outputs": [],
   "source": [
    "property_links = []\n",
    "for hr in hrefs:\n",
    "    if \"annonces-immobilieres\" in hr:\n",
    "        # print(hr)\n",
    "        property_links.append(hr)"
   ]
  },
  {
   "cell_type": "code",
   "execution_count": 840,
   "metadata": {},
   "outputs": [],
   "source": [
    "# print(property_links)\n",
    "col_data = []\n",
    "for each_property in property_links:\n",
    "    # print(each_property)\n",
    "    url = requests.get(each_property)\n",
    "    soup = BeautifulSoup(url.text, \"html.parser\")\n",
    "    url_info = soup.find_all(\"dl\", {'class': 'wpis-detail-list list-general'})\n",
    "    #data_info = pd.DataFrame()\n",
    "    cleaned_id_text = []\n",
    "\n",
    "    for i in url_info[0].find_all('dt'):\n",
    "\n",
    "        cleaned_id_text.append(i.text)\n",
    "\n",
    "    cleaned_id__attrb_text = []\n",
    "    for i in url_info[0].find_all('dd'):\n",
    "        cleaned_id__attrb_text.append(i.text)\n",
    "\n",
    "    #data_info['Field'] = cleaned_id_text\n",
    "    #data_info['Values'] = cleaned_id__attrb_text\n",
    "    # print(cleaned_id__attrb_text)\n",
    "    data_dict = {'Price': cleaned_id__attrb_text[0], 'Type_of_property': cleaned_id__attrb_text[3],\n",
    "                 'Locality': cleaned_id__attrb_text[2], 'Availability': cleaned_id__attrb_text[4], 'Condition of the property': cleaned_id__attrb_text[5]}\n",
    "    # print(data_dict)\n",
    "    col_data.append(data_dict)\n",
    "\n",
    "    time.sleep(2)"
   ]
  },
  {
   "cell_type": "code",
   "execution_count": 841,
   "metadata": {
    "scrolled": true
   },
   "outputs": [],
   "source": [
    "df = pd.DataFrame(col_data, columns=[\n",
    "                  'Locality', 'Type_of_property', 'Price', 'Availability', 'Condition of the property'])\n",
    "# print(df)\n",
    "with open('real_estate_data_ver1.csv', 'a') as f:\n",
    "    df.to_csv(f, index=False)\n",
    "# df.to_csv('real_estate_data.csv')"
   ]
  },
  {
   "cell_type": "code",
   "execution_count": 842,
   "metadata": {},
   "outputs": [],
   "source": [
    "col_config = []\n",
    "for each_property in property_links:\n",
    "    # print(each_property)\n",
    "    url_for_config = requests.get(each_property)\n",
    "    soup = BeautifulSoup(url_for_config.text, \"html.parser\")\n",
    "    url_config_info = soup.find_all(\n",
    "        \"dl\", {'class': 'wpis-detail-list list-configuration'})\n",
    "\n",
    "    cleaned_id_text = []\n",
    "    for i in url_config_info[0].find_all('dt'):\n",
    "        cleaned_id_text.append(i.text)\n",
    "\n",
    "    cleaned_id__attrb_text = []\n",
    "    for i in url_config_info[0].find_all('dd'):\n",
    "        cleaned_id__attrb_text.append(i.text)\n",
    "    # print(cleaned_id__attrb_text[6])\n",
    "    if len(cleaned_id__attrb_text) < 6:\n",
    "        pass\n",
    "    else:\n",
    "        config_dict = {'Chambers': cleaned_id__attrb_text[0], 'Cuisine': cleaned_id__attrb_text[1],\n",
    "                       'Toilette': cleaned_id__attrb_text[2], 'Salle de bain': cleaned_id__attrb_text[3], 'Terrasse': cleaned_id__attrb_text[4], 'Garden': cleaned_id__attrb_text[5]}\n",
    "\n",
    "    col_config.append(config_dict)\n",
    "    time.sleep(2)"
   ]
  },
  {
   "cell_type": "code",
   "execution_count": 843,
   "metadata": {},
   "outputs": [],
   "source": [
    "df2 = pd.DataFrame(col_config, columns=[\n",
    "                   'Chambers', 'Cuisine', 'Toilette', 'Salle de bain', 'Terrasse', 'Garden'])\n",
    "# print(df2)\n",
    "# df2.to_csv('real_estate_data_config.csv')\n",
    "with open('real_estate_data_config_ver1.csv', 'a') as f:\n",
    "    df.to_csv(f,index=False)"
   ]
  },
  {
   "cell_type": "code",
   "execution_count": 844,
   "metadata": {},
   "outputs": [],
   "source": [
    "col_area = []\n",
    "for each_property in property_links:\n",
    "    # print(each_property)\n",
    "    url_for_config = requests.get(each_property)\n",
    "    soup = BeautifulSoup(url_for_config.text, \"html.parser\")\n",
    "    url_config_info = soup.find_all(\n",
    "        \"dl\", {'class': 'wpis-detail-list list-superficies'})\n",
    "\n",
    "    cleaned_id_text = []\n",
    "    for i in url_config_info[0].find_all('dt'):\n",
    "        cleaned_id_text.append(i.text)\n",
    "\n",
    "    cleaned_id__attrb_text = []\n",
    "    for i in url_config_info[0].find_all('dd'):\n",
    "        cleaned_id__attrb_text.append(i.text)\n",
    "\n",
    "    area_dict = {'Total habitable': cleaned_id__attrb_text[0]}\n",
    "    col_area.append(area_dict)\n",
    "    time.sleep(2)"
   ]
  },
  {
   "cell_type": "code",
   "execution_count": 845,
   "metadata": {},
   "outputs": [],
   "source": [
    "# ,'Cuisine','Toilette','Salle de bain','Terrasse','Garden'])\n",
    "df3 = pd.DataFrame(col_area, columns=['Total habitable'])\n",
    "# print(df3)\n",
    "# df3.to_csv('real_estate_data_area.csv')\n",
    "with open('real_estate_data_area_ver1.csv', 'a') as f:\n",
    "    df3.to_csv(f,index=False)"
   ]
  },
  {
   "cell_type": "code",
   "execution_count": 846,
   "metadata": {},
   "outputs": [],
   "source": [
    "d = pd.concat([df, df2, df3], axis=1)\n",
    "with open('overall_real_estate_data_area_ver1.csv', 'a') as f:\n",
    "    d.to_csv(f)"
   ]
  },
  {
   "cell_type": "code",
   "execution_count": null,
   "metadata": {},
   "outputs": [],
   "source": []
  }
 ],
 "metadata": {
  "kernelspec": {
   "display_name": "Python 3",
   "language": "python",
   "name": "python3"
  },
  "language_info": {
   "codemirror_mode": {
    "name": "ipython",
    "version": 3
   },
   "file_extension": ".py",
   "mimetype": "text/x-python",
   "name": "python",
   "nbconvert_exporter": "python",
   "pygments_lexer": "ipython3",
   "version": "3.7.6"
  }
 },
 "nbformat": 4,
 "nbformat_minor": 4
}
